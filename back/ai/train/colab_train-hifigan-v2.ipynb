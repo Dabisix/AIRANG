{
 "cells": [
  {
   "cell_type": "markdown",
   "metadata": {
    "id": "yIgz4PyCC9eY"
   },
   "source": [
    "# SCE-TTS: HiFi-GAN 학습\n",
    "\n",
    "[SCE-TTS 프로젝트의 HiFi-GAN 학습용 문서](https://sce-tts.github.io/)"
   ]
  },
  {
   "cell_type": "markdown",
   "metadata": {
    "id": "nMJBiJ6mECO1"
   },
   "source": [
    "## 1. 할당된 GPU 확인"
   ]
  },
  {
   "cell_type": "code",
   "execution_count": null,
   "metadata": {
    "colab": {
     "base_uri": "https://localhost:8080/"
    },
    "executionInfo": {
     "elapsed": 5,
     "status": "ok",
     "timestamp": 1667787088149,
     "user": {
      "displayName": "Rang Ai",
      "userId": "01151398488074688861"
     },
     "user_tz": -540
    },
    "id": "pHat88bRD4_e",
    "outputId": "4c234334-2cac-427d-a9c0-2117f91f8fb1"
   },
   "outputs": [
    {
     "name": "stdout",
     "output_type": "stream",
     "text": [
      "GPU: Tesla T4\n"
     ]
    }
   ],
   "source": [
    "import os\n",
    "GPU_NAME = os.popen('nvidia-smi --query-gpu=name --format=csv,noheader').read().strip()\n",
    "os.environ['GPU_NAME'] = GPU_NAME\n",
    "print(f'GPU: {GPU_NAME}')"
   ]
  },
  {
   "cell_type": "markdown",
   "metadata": {
    "id": "CEgknkRoDKj9"
   },
   "source": [
    "## 2. 구글 드라이브 마운트\n",
    "마운트할 구글 드라이브 내에 다음 파일이 존재하는지 꼭 확인하기\n",
    "- `/Colab Notebooks/data/filelists.zip`"
   ]
  },
  {
   "cell_type": "code",
   "execution_count": null,
   "metadata": {
    "colab": {
     "base_uri": "https://localhost:8080/"
    },
    "executionInfo": {
     "elapsed": 25031,
     "status": "ok",
     "timestamp": 1667787114420,
     "user": {
      "displayName": "Rang Ai",
      "userId": "01151398488074688861"
     },
     "user_tz": -540
    },
    "id": "4U2wrDOthrsF",
    "outputId": "a2697fc3-a8e7-487d-b604-d1a4f8827ebe"
   },
   "outputs": [
    {
     "name": "stdout",
     "output_type": "stream",
     "text": [
      "Mounted at /content/drive\n"
     ]
    }
   ],
   "source": [
    "from google.colab import drive\n",
    "drive.mount('/content/drive')"
   ]
  },
  {
   "cell_type": "markdown",
   "metadata": {
    "id": "IxpzRw3SDvOL"
   },
   "source": [
    "## 3. 필수 라이브러리 및 함수 불러오기"
   ]
  },
  {
   "cell_type": "code",
   "execution_count": null,
   "metadata": {
    "id": "jYCym6hXge2_"
   },
   "outputs": [],
   "source": [
    "import sys\n",
    "from pathlib import Path"
   ]
  },
  {
   "cell_type": "code",
   "execution_count": null,
   "metadata": {
    "id": "JkWG-L13gReB"
   },
   "outputs": [],
   "source": [
    "%cd /content\n",
    "!git clone --depth 1 https://github.com/sce-tts/TTS.git -b sce-tts\n",
    "%cd /content/TTS\n",
    "!python setup.py develop"
   ]
  },
  {
   "cell_type": "markdown",
   "metadata": {
    "id": "iiXsxJtZERyP"
   },
   "source": [
    "## 4. 학습할 데이터셋 불러오기\n",
    "\n",
    "학습에 사용할 음성 데이터를 구글 드라이브에서 가져옵니다."
   ]
  },
  {
   "cell_type": "code",
   "execution_count": null,
   "metadata": {
    "colab": {
     "base_uri": "https://localhost:8080/"
    },
    "executionInfo": {
     "elapsed": 5774,
     "status": "ok",
     "timestamp": 1667787265515,
     "user": {
      "displayName": "Rang Ai",
      "userId": "01151398488074688861"
     },
     "user_tz": -540
    },
    "id": "hExnC_2RhZ3m",
    "outputId": "51345adb-4088-4a11-98b8-b2af328bf1df"
   },
   "outputs": [
    {
     "name": "stdout",
     "output_type": "stream",
     "text": [
      "/content/TTS\n"
     ]
    }
   ],
   "source": [
    "%cd /content/TTS\n",
    "!cp \"/content/drive/My Drive/Colab Notebooks/data/filelists.zip\" ./filelists.zip\n",
    "!rm -rf ./filelists\n",
    "!unzip -q filelists.zip -d ./filelists"
   ]
  },
  {
   "cell_type": "markdown",
   "metadata": {
    "id": "qD8zd4SMElbn"
   },
   "source": [
    "## 5. 사전 학습 데이터 불러오기\n",
    "\n",
    "사전 학습 데이터가 구글 드라이브에 존재하지 않을 경우,  \n",
    "SleepingCE Speech Dataset의 사전 학습 데이터를 내려받기."
   ]
  },
  {
   "cell_type": "code",
   "execution_count": null,
   "metadata": {
    "colab": {
     "base_uri": "https://localhost:8080/"
    },
    "executionInfo": {
     "elapsed": 3,
     "status": "ok",
     "timestamp": 1667787272611,
     "user": {
      "displayName": "Rang Ai",
      "userId": "01151398488074688861"
     },
     "user_tz": -540
    },
    "id": "MQxazTNayds-",
    "outputId": "2e120a45-feca-40ce-e8b4-b4b6f36ef02b"
   },
   "outputs": [
    {
     "name": "stdout",
     "output_type": "stream",
     "text": [
      "/content/TTS\n"
     ]
    }
   ],
   "source": [
    "%cd /content/TTS\n",
    "!mkdir -p \"/content/drive/My Drive/Colab Notebooks/data/hifigan-v2\"\n",
    "if not Path(\"/content/drive/My Drive/Colab Notebooks/data/hifigan-v2/config.json\").exists():\n",
    "    !gdown --id 1vRxp1RH-U7gSzWgyxnKY4h_7pB3tjPmU -O hifigan-v2.zip\n",
    "    !unzip -q hifigan-v2.zip -d ./\n",
    "    !cp -R ./hifigan-v2/* \"/content/drive/My Drive/Colab Notebooks/data/hifigan-v2/\""
   ]
  },
  {
   "cell_type": "code",
   "execution_count": null,
   "metadata": {
    "colab": {
     "base_uri": "https://localhost:8080/"
    },
    "executionInfo": {
     "elapsed": 840,
     "status": "ok",
     "timestamp": 1667787281843,
     "user": {
      "displayName": "Rang Ai",
      "userId": "01151398488074688861"
     },
     "user_tz": -540
    },
    "id": "c73wfE5L7uK9",
    "outputId": "19a5ca52-769c-4985-a20c-fde64fbc6e42"
   },
   "outputs": [
    {
     "name": "stdout",
     "output_type": "stream",
     "text": [
      "/content/TTS\n"
     ]
    }
   ],
   "source": [
    "%cd /content/TTS\n",
    "if not Path(\"/content/drive/My Drive/Colab Notebooks/data/hifigan-v2/scale_stats_new.npy\").exists():\n",
    "    !python TTS/bin/compute_statistics.py \"/content/drive/My Drive/Colab Notebooks/data/hifigan-v2/config.json\" \"/content/drive/My Drive/Colab Notebooks/data/hifigan-v2/scale_stats_new.npy\" --data_path \"/content/TTS/filelists/wavs/\""
   ]
  },
  {
   "cell_type": "markdown",
   "metadata": {
    "id": "alQe2KpbE9di"
   },
   "source": [
    "## 6. TensorBoard 실행\n",
    "\n",
    "학습 진행 확인용"
   ]
  },
  {
   "cell_type": "code",
   "execution_count": null,
   "metadata": {},
   "outputs": [],
   "source": [
    "%load_ext tensorboard\n",
    "%tensorboard --logdir=\"/content/drive/My Drive/Colab Notebooks/data/hifigan-v2\""
   ]
  },
  {
   "cell_type": "markdown",
   "metadata": {
    "id": "32XUNFa-FQ-R"
   },
   "source": [
    "## 7. HiFi-GAN 학습 진행"
   ]
  },
  {
   "cell_type": "code",
   "execution_count": null,
   "metadata": {
    "id": "9Yim0zgJk3cR"
   },
   "outputs": [],
   "source": [
    "%cd /content/TTS\n",
    "# !(python TTS/bin/train_vocoder_gan.py \\\n",
    "#     --continue_path \"/content/drive/My Drive/Colab Notebooks/data/hifigan-v2/CONTINUE_DIRECTORY\")\n",
    "!(python TTS/bin/train_vocoder_gan.py \\\n",
    "    --config_path \"/content/drive/My Drive/Colab Notebooks/data/hifigan-v2/config.json\" \\\n",
    "    --coqpit.data_path \"/content/TTS/filelists/wavs\"  \\\n",
    "    --coqpit.audio.stats_path \"/content/drive/My Drive/Colab Notebooks/data/hifigan-v2/scale_stats_new.npy\"  \\\n",
    "    --coqpit.output_path \"/content/drive/My Drive/Colab Notebooks/data/hifigan-v2/\"  \\\n",
    "    --coqpit.num_loader_workers 2  \\\n",
    "    --coqpit.num_val_loader_workers 2  \\\n",
    "    --restore_path \"/content/drive/My Drive/Colab Notebooks/data/hifigan-v2/model_file.pth.tar\")"
   ]
  }
 ],
 "metadata": {
  "accelerator": "GPU",
  "colab": {
   "collapsed_sections": [],
   "provenance": [
    {
     "file_id": "1iwDe-seKo4L-xwb4nttsbu0fEHI__nTo",
     "timestamp": 1667509255055
    },
    {
     "file_id": "1Z9L1THoQepz1uWPVFTHjJB2bny98BMZK",
     "timestamp": 1622377162466
    },
    {
     "file_id": "1IlZt42ETvNHthRFXfwNSSH-ftWthxzqr",
     "timestamp": 1622371446894
    },
    {
     "file_id": "1UinTd1Kp1ytwPQ4QWA610ZKOVfmPDdn5",
     "timestamp": 1596300568469
    }
   ]
  },
  "gpuClass": "standard",
  "kernelspec": {
   "display_name": "Python 3 (ipykernel)",
   "language": "python",
   "name": "python3"
  },
  "language_info": {
   "codemirror_mode": {
    "name": "ipython",
    "version": 3
   },
   "file_extension": ".py",
   "mimetype": "text/x-python",
   "name": "python",
   "nbconvert_exporter": "python",
   "pygments_lexer": "ipython3",
   "version": "3.8.13"
  }
 },
 "nbformat": 4,
 "nbformat_minor": 1
}

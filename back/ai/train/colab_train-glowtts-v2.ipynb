{
 "cells": [
  {
   "cell_type": "markdown",
   "metadata": {
    "id": "yIgz4PyCC9eY"
   },
   "source": [
    "# SCE-TTS: Glow-TTS 학습"
   ]
  },
  {
   "cell_type": "markdown",
   "metadata": {
    "id": "nMJBiJ6mECO1"
   },
   "source": [
    "## 1. 할당된 GPU 확인\n"
   ]
  },
  {
   "cell_type": "code",
   "execution_count": null,
   "metadata": {
    "colab": {
     "base_uri": "https://localhost:8080/"
    },
    "executionInfo": {
     "elapsed": 5,
     "status": "ok",
     "timestamp": 1667519782990,
     "user": {
      "displayName": "Rang Ai",
      "userId": "01151398488074688861"
     },
     "user_tz": -540
    },
    "id": "pHat88bRD4_e",
    "outputId": "8ad4d6b1-c5ca-4162-bc93-37d2358c107b"
   },
   "outputs": [
    {
     "name": "stdout",
     "output_type": "stream",
     "text": [
      "GPU: NVIDIA-SMI has failed because it couldn't communicate with the NVIDIA driver. Make sure that the latest NVIDIA driver is installed and running.\n"
     ]
    }
   ],
   "source": [
    "import os\n",
    "GPU_NAME = os.popen('nvidia-smi --query-gpu=name --format=csv,noheader').read().strip()\n",
    "os.environ['GPU_NAME'] = GPU_NAME\n",
    "print(f'GPU: {GPU_NAME}')"
   ]
  },
  {
   "cell_type": "markdown",
   "metadata": {
    "id": "CEgknkRoDKj9"
   },
   "source": [
    "## 2. 구글 드라이브 마운트\n",
    "\n",
    "마운트할 구글 드라이브 내에 다음 파일이 존재하는지 확인\n",
    "\n",
    "- `/Colab Notebooks/data/filelists.zip`\n"
   ]
  },
  {
   "cell_type": "code",
   "execution_count": null,
   "metadata": {
    "colab": {
     "base_uri": "https://localhost:8080/"
    },
    "executionInfo": {
     "elapsed": 16492,
     "status": "ok",
     "timestamp": 1667519806166,
     "user": {
      "displayName": "Rang Ai",
      "userId": "01151398488074688861"
     },
     "user_tz": -540
    },
    "id": "4U2wrDOthrsF",
    "outputId": "99d18044-2050-46df-99e6-d3b6325c5ca9"
   },
   "outputs": [
    {
     "name": "stdout",
     "output_type": "stream",
     "text": [
      "Mounted at /content/drive\n"
     ]
    }
   ],
   "source": [
    "from google.colab import drive\n",
    "drive.mount('/content/drive')"
   ]
  },
  {
   "cell_type": "markdown",
   "metadata": {
    "id": "IxpzRw3SDvOL"
   },
   "source": [
    "## 3. 필수 라이브러리 및 함수 불러오기\n",
    "\n",
    "약 10분 정도 소요될 수 있음"
   ]
  },
  {
   "cell_type": "code",
   "execution_count": null,
   "metadata": {
    "id": "jYCym6hXge2_"
   },
   "outputs": [],
   "source": [
    "import sys\n",
    "from pathlib import Path"
   ]
  },
  {
   "cell_type": "code",
   "execution_count": null,
   "metadata": {},
   "outputs": [],
   "source": [
    "%cd /content\n",
    "!git clone --depth 1 https://github.com/sce-tts/TTS.git -b sce-tts\n",
    "%cd /content/TTS\n",
    "!python setup.py develop"
   ]
  },
  {
   "cell_type": "markdown",
   "metadata": {
    "id": "iiXsxJtZERyP"
   },
   "source": [
    "## 4. 학습할 데이터셋 불러오기\n",
    "\n",
    "학습에 사용할 음성 데이터를 구글 드라이브에서 가져오기"
   ]
  },
  {
   "cell_type": "code",
   "execution_count": null,
   "metadata": {
    "colab": {
     "base_uri": "https://localhost:8080/"
    },
    "executionInfo": {
     "elapsed": 2876,
     "status": "ok",
     "timestamp": 1667519840848,
     "user": {
      "displayName": "Rang Ai",
      "userId": "01151398488074688861"
     },
     "user_tz": -540
    },
    "id": "hExnC_2RhZ3m",
    "outputId": "54e75b68-22ad-463a-abf9-7457ae843340"
   },
   "outputs": [
    {
     "name": "stdout",
     "output_type": "stream",
     "text": [
      "/content/TTS\n"
     ]
    }
   ],
   "source": [
    "%cd /content/TTS\n",
    "!cp \"/content/drive/My Drive/Colab Notebooks/data/filelists.zip\" ./filelists.zip\n",
    "!rm -rf ./filelists\n",
    "!unzip -q filelists.zip -d ./filelists"
   ]
  },
  {
   "cell_type": "markdown",
   "metadata": {
    "id": "qD8zd4SMElbn"
   },
   "source": [
    "## 5. 사전 학습 데이터 불러오기\n",
    "\n",
    "사전 학습 데이터가 구글 드라이브에 존재하지 않을 경우,  \n",
    "SleepingCE Speech Dataset의 사전 학습 데이터를 내려받기."
   ]
  },
  {
   "cell_type": "code",
   "execution_count": null,
   "metadata": {},
   "outputs": [],
   "source": [
    "%cd /content/TTS\n",
    "!mkdir -p \"/content/drive/My Drive/Colab Notebooks/data/glowtts-v2\"\n",
    "if not Path(\"/content/drive/My Drive/Colab Notebooks/data/glowtts-v2/config.json\").exists():\n",
    "    !gdown --id 1DMKLdfZ_gzc_z0qDod6_G8fEXj0zCHvC -O glowtts-v2.zip\n",
    "    !unzip -q glowtts-v2.zip -d ./\n",
    "    !cp -R ./glowtts-v2/* \"/content/drive/My Drive/Colab Notebooks/data/glowtts-v2/\""
   ]
  },
  {
   "cell_type": "code",
   "execution_count": null,
   "metadata": {},
   "outputs": [],
   "source": [
    "%cd /content/TTS\n",
    "if not Path(\"/content/drive/My Drive/Colab Notebooks/data/glowtts-v2/scale_stats_new.npy\").exists():\n",
    "    !python TTS/bin/compute_statistics.py \"/content/drive/My Drive/Colab Notebooks/data/glowtts-v2/config.json\" \"/content/drive/My Drive/Colab Notebooks/data/glowtts-v2/scale_stats_new.npy\" --data_path \"/content/TTS/filelists/wavs/\""
   ]
  },
  {
   "cell_type": "code",
   "execution_count": null,
   "metadata": {
    "id": "Q6TCF3Pu-MnV"
   },
   "outputs": [],
   "source": [
    "with open(\"/content/TTS/test_sentences.txt\", mode=\"w\") as f:\n",
    "    f.write(\"\"\"아래 문장들은 모델 학습을 위해 사용하지 않은 문장들입니다.\n",
    "서울특별시 특허허가과 허가과장 허과장.\n",
    "경찰청 철창살은 외철창살이고 검찰청 철창살은 쌍철창살이다.\n",
    "지향을 지양으로 오기하는 일을 지양하는 언어 습관을 지향해야 한다.\n",
    "그러니까 외계인이 우리 생각을 읽고 우리 생각을 우리가 다시 생각토록 해서 그 생각이 마치 우리가 생각한 것인 것처럼 속였다는 거냐?\"\"\")"
   ]
  },
  {
   "cell_type": "markdown",
   "metadata": {
    "id": "alQe2KpbE9di"
   },
   "source": [
    "## 6. TensorBoard 실행"
   ]
  },
  {
   "cell_type": "code",
   "execution_count": null,
   "metadata": {},
   "outputs": [],
   "source": [
    "%load_ext tensorboard\n",
    "%tensorboard --logdir=\"/content/drive/My Drive/Colab Notebooks/data/glowtts-v2\""
   ]
  },
  {
   "cell_type": "markdown",
   "metadata": {
    "id": "32XUNFa-FQ-R"
   },
   "source": [
    "## 7. Glow-TTS 학습 진행\n",
    "\n",
    "처음 학습을 수행할 때에는 아래 셀을 그대로 실행\n",
    "\n",
    "이전에 학습을 진행하던 모델을 이어서 학습을 진행할 경우 다음과 같이 수정한 후 실행\n",
    "\n",
    "- 아래 셀에서 2 ~ 3번째 줄의 코드를 주석을 해제\n",
    "- 3번째 줄의 경로를 이어서 학습을 진행할 모델의 경로로 변경 \n",
    "(예시: `/content/drive/My Drive/Colab Notebooks/data/glowtts-v2/glowtts-v2-May-31-2021_08+17AM-d897f2e`)\n",
    "- 4번째 줄 아래의 코드를 제거\n"
   ]
  },
  {
   "cell_type": "code",
   "execution_count": null,
   "metadata": {},
   "outputs": [],
   "source": [
    "%cd /content/TTS\n",
    "!(python TTS/bin/train_glow_tts.py \\\n",
    "    --continue_path \"/content/drive/MyDrive/Colab Notebooks/data/glowtts-v2/glowtts-v2-November-03-2022_08+45PM-3aa165a\")\n",
    "# !(python TTS/bin/train_glow_tts.py \\\n",
    "    # --config_path \"/content/drive/My Drive/Colab Notebooks/data/glowtts-v2/config.json\" \\\n",
    "    # --coqpit.datasets.0.path \"/content/TTS/filelists\"  \\\n",
    "    # --coqpit.audio.stats_path \"/content/drive/My Drive/Colab Notebooks/data/glowtts-v2/scale_stats_new.npy\"  \\\n",
    "    # --coqpit.test_sentences_file \"/content/TTS/test_sentences.txt\"  \\\n",
    "    # --coqpit.output_path \"/content/drive/My Drive/Colab Notebooks/data/glowtts-v2/\"  \\\n",
    "    # --coqpit.num_loader_workers 2  \\\n",
    "    # --coqpit.num_val_loader_workers 2  \\\n",
    "    # --restore_path \"/content/drive/My Drive/Colab Notebooks/data/glowtts-v2/model_file.pth.tar\")"
   ]
  }
 ],
 "metadata": {
  "accelerator": "GPU",
  "colab": {
   "collapsed_sections": [],
   "provenance": [
    {
     "file_id": "1L5o8joH8LDV37eupNUpqqWrOcw1sGCit",
     "timestamp": 1667478901988
    },
    {
     "file_id": "1IlZt42ETvNHthRFXfwNSSH-ftWthxzqr",
     "timestamp": 1622371446894
    },
    {
     "file_id": "1UinTd1Kp1ytwPQ4QWA610ZKOVfmPDdn5",
     "timestamp": 1596300568469
    }
   ]
  },
  "kernelspec": {
   "display_name": "Python 3 (ipykernel)",
   "language": "python",
   "name": "python3"
  },
  "language_info": {
   "codemirror_mode": {
    "name": "ipython",
    "version": 3
   },
   "file_extension": ".py",
   "mimetype": "text/x-python",
   "name": "python",
   "nbconvert_exporter": "python",
   "pygments_lexer": "ipython3",
   "version": "3.8.13"
  }
 },
 "nbformat": 4,
 "nbformat_minor": 1
}

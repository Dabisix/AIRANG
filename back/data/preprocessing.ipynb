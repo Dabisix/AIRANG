{
 "cells": [
  {
   "cell_type": "markdown",
   "id": "38a67f00",
   "metadata": {},
   "source": [
    "#### 1. 모듈 가져오기"
   ]
  },
  {
   "cell_type": "code",
   "execution_count": 1,
   "id": "35664307",
   "metadata": {},
   "outputs": [],
   "source": [
    "import pandas as pd\n",
    "import pymysql\n",
    "from sqlalchemy import create_engine"
   ]
  },
  {
   "cell_type": "markdown",
   "id": "506eba16",
   "metadata": {},
   "source": [
    "#### 2. 원본 파일 읽어오기"
   ]
  },
  {
   "cell_type": "code",
   "execution_count": 2,
   "id": "fbb4011d",
   "metadata": {},
   "outputs": [],
   "source": [
    "file = open(\"./books.txt\", \"r\", encoding='UTF8')\n",
    "\n",
    "books  = []\n",
    "while True:\n",
    "    strr = file.readlines()\n",
    "    if not strr:\n",
    "        break\n",
    "    books += strr\n",
    "\n",
    "books = books[40:]"
   ]
  },
  {
   "cell_type": "markdown",
   "id": "0e39b6d4",
   "metadata": {},
   "source": [
    "#### 3. 변수 및 메소드 선언, 구분자 생성"
   ]
  },
  {
   "cell_type": "code",
   "execution_count": 3,
   "id": "f2e2c9da",
   "metadata": {},
   "outputs": [],
   "source": [
    "def getTitle(string):\n",
    "    return string.split(\".\")[1][1:-1]"
   ]
  },
  {
   "cell_type": "code",
   "execution_count": 4,
   "id": "889bc201",
   "metadata": {},
   "outputs": [],
   "source": [
    "# 데이터 프레임 생성\n",
    "column_name = [\"b_id\", \"title\", \"author\", \"content\", \"cnt\"]\n",
    "books_df = pd.DataFrame(columns=column_name)\n",
    "\n",
    "# 동화 끝 구분자\n",
    "stop_list = [\"(끝)\\n\", \"(동화 끝)\\n\"]\n",
    "\n",
    "# 변수 선언\n",
    "title_idx = 0\n",
    "dict = {}\n",
    "dict[\"content\"] = \"\"\n",
    "b_idx = -1"
   ]
  },
  {
   "cell_type": "markdown",
   "id": "77ec8263",
   "metadata": {},
   "source": [
    "#### 4. 동화책 분류"
   ]
  },
  {
   "cell_type": "code",
   "execution_count": 5,
   "id": "10896826",
   "metadata": {},
   "outputs": [],
   "source": [
    "while b_idx < len(books)-1:\n",
    "    b_idx += 1\n",
    "    if books[b_idx].split(\".\")[0] == str(title_idx+1) : # 제목 선정\n",
    "        title_idx += 1\n",
    "        dict = {}\n",
    "        dict[\"b_id\"] = title_idx\n",
    "        dict[\"title\"] = getTitle(books[b_idx])\n",
    "        dict[\"content\"] = \"\"\n",
    "    elif books[b_idx] == \"\\n\" : # 공백은 pass\n",
    "        continue\n",
    "    elif books[b_idx] in stop_list : # 내용 끝남\n",
    "        df = pd.DataFrame(dict, index = [0])\n",
    "        books_df = pd.concat([books_df,df])\n",
    "\n",
    "        if title_idx >= 210 : # 모든 동화 끝\n",
    "            break\n",
    "\n",
    "        while b_idx<len(books): # 동화 끝나고 필요 없는 부분 제거\n",
    "            b_idx += 1\n",
    "            if books[b_idx].split(\".\")[0] == str(title_idx+1) :\n",
    "                b_idx -= 1\n",
    "                break\n",
    "    else : # 내용 추가\n",
    "        dict[\"content\"] += books[b_idx]\n",
    "\n",
    "# 인덱스 재설정\n",
    "books_df = books_df.reset_index(drop=True)\n",
    "\n",
    "# AR구현할 책을 상단으로\n",
    "books_df.loc[52, \"b_id\"] = 2\n",
    "books_df.loc[1, \"b_id\"] = 53\n",
    "books_df.loc[2, \"b_id\"] = 211\n",
    "books_df.loc[3, \"b_id\"] = 212\n",
    "\n",
    "# 이 두가지 책은 아직 내용 없음\n",
    "df = pd.DataFrame({\"b_id\":3, \"title\":\"토끼와 거북이\", \"author\":\"이솝 우화\", \"content\":\"\", \"cnt\":0}, index = [0])\n",
    "books_df = pd.concat([books_df,df])\n",
    "df = pd.DataFrame({\"b_id\":4, \"title\":\"양치기 소년\", \"author\":\"이솝 우화\", \"content\":\"\", \"cnt\":0}, index = [0])\n",
    "books_df = pd.concat([books_df,df])\n",
    "\n",
    "# 정렬 및 인덱스 재설정\n",
    "books_df = books_df.sort_values(\"b_id\")\n",
    "books_df = books_df.reset_index(drop=True)\n",
    "\n",
    "# 조회수, 저자명 채우기\n",
    "books_df[\"cnt\"] = 0\n",
    "books_df[\"author\"] = \"그림 형제\""
   ]
  },
  {
   "cell_type": "markdown",
   "id": "d7dc222a",
   "metadata": {},
   "source": [
    "#### 5. 전처리 작업"
   ]
  },
  {
   "cell_type": "code",
   "execution_count": 6,
   "id": "80aa30c6",
   "metadata": {
    "scrolled": true
   },
   "outputs": [],
   "source": [
    "page_separator = \"&page&\"\n",
    "for i in range(len(books_df[\"b_id\"])) :\n",
    "    # 제목에서 괄호 없애기\n",
    "    title = books_df.loc[i, \"title\"]\n",
    "    if title.find(\"(\") > 0 :\n",
    "        books_df.loc[i, \"title\"] = title[:title.find(\"(\")]\n",
    "        \n",
    "    # 내용에 들어간 번역가 첨언 제거\n",
    "    content = books_df.loc[i, \"content\"]\n",
    "    if content.find(\"(본문시작)\") > 0 :\n",
    "        content= content[content.find(\"(본문시작)\")+10:]\n",
    "    \n"
   ]
  },
  {
   "cell_type": "code",
   "execution_count": null,
   "id": "9c94e316",
   "metadata": {},
   "outputs": [],
   "source": [
    "for i in books_df.loc[4].content.split(page_separator) :\n",
    "    print(i)\n",
    "    print(\"===============\")"
   ]
  },
  {
   "cell_type": "code",
   "execution_count": 10,
   "id": "964d7f5a",
   "metadata": {},
   "outputs": [
    {
     "data": {
      "text/plain": [
       "26648"
      ]
     },
     "execution_count": 10,
     "metadata": {},
     "output_type": "execute_result"
    }
   ],
   "source": [
    "# 텍스트 최대 길이\n",
    "reee = 0;\n",
    "idx_list = books_df.index\n",
    "for i in idx_list:\n",
    "    if(reee < len(books_df.loc[i, \"content\"])) :\n",
    "        reee = len(books_df.loc[i, \"content\"])\n",
    "reee"
   ]
  },
  {
   "cell_type": "markdown",
   "id": "ad0ffa56",
   "metadata": {},
   "source": [
    "#### 6. DB에 저장"
   ]
  },
  {
   "cell_type": "code",
   "execution_count": null,
   "id": "55492f1e",
   "metadata": {},
   "outputs": [],
   "source": [
    "db_connection_str = 'mysql+pymysql://[user]:[password]@[host]/[db]' # 로컬에 저장\n",
    "db_connection = create_engine(db_connection_str)\n",
    "conn = db_connection.connect()\n",
    "\n",
    "books_df.to_sql(name='book', con=db_connection, if_exists='append',index=False)  "
   ]
  }
 ],
 "metadata": {
  "kernelspec": {
   "display_name": "Python 3 (ipykernel)",
   "language": "python",
   "name": "python3"
  },
  "language_info": {
   "codemirror_mode": {
    "name": "ipython",
    "version": 3
   },
   "file_extension": ".py",
   "mimetype": "text/x-python",
   "name": "python",
   "nbconvert_exporter": "python",
   "pygments_lexer": "ipython3",
   "version": "3.10.7"
  }
 },
 "nbformat": 4,
 "nbformat_minor": 5
}
